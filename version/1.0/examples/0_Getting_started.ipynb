{
 "cells": [
  {
   "cell_type": "markdown",
   "id": "a0a571b2",
   "metadata": {},
   "source": [
    "# Connect and access the job queue"
   ]
  },
  {
   "cell_type": "markdown",
   "id": "576e9ede",
   "metadata": {},
   "source": [
    "This example shows how to connect to Granta MI and access the job queue. For more information\n",
    "on creating and interacting with jobs, see the subsequent examples."
   ]
  },
  {
   "cell_type": "markdown",
   "id": "7f2c5948",
   "metadata": {},
   "source": [
    "## Connect to Granta MI"
   ]
  },
  {
   "cell_type": "markdown",
   "id": "86c2cb17",
   "metadata": {},
   "source": [
    "First, use the ``ansys.grantami.jobqueue.Connection`` class to connect to the Granta MI\n",
    "server. The ``Connection`` class uses a fluent interface to build the connection, which is always\n",
    "invoked in the following sequence:\n",
    "\n",
    "1. Specify the URL for your Granta MI service layer as a parameter to the ``Connection`` class.\n",
    "2. Specify the authentication method using a ``Connection.with_*()`` method.\n",
    "3. Use the ``Connection.connect()`` method to finalize the connection.\n",
    "\n",
    "This returns an ``ansys.grantami.jobqueue.JobQueueApiClient`` object, which is called ``client``\n",
    "in these examples."
   ]
  },
  {
   "cell_type": "code",
   "execution_count": 1,
   "id": "8eb7e045",
   "metadata": {
    "execution": {
     "iopub.execute_input": "2024-10-03T11:02:57.719147Z",
     "iopub.status.busy": "2024-10-03T11:02:57.718925Z",
     "iopub.status.idle": "2024-10-03T11:02:57.725508Z",
     "shell.execute_reply": "2024-10-03T11:02:57.724948Z"
    },
    "tags": []
   },
   "outputs": [],
   "source": [
    "from ansys.grantami.jobqueue import Connection\n",
    "\n",
    "server_url = \"http://my_grantami_server/mi_servicelayer\""
   ]
  },
  {
   "cell_type": "markdown",
   "id": "3418f8a8",
   "metadata": {},
   "source": [
    "If you are running your Python script on Windows, you are generally able to use ``.with_autologon()``."
   ]
  },
  {
   "cell_type": "code",
   "execution_count": 2,
   "id": "3cd4921a",
   "metadata": {
    "execution": {
     "iopub.execute_input": "2024-10-03T11:02:57.727905Z",
     "iopub.status.busy": "2024-10-03T11:02:57.727530Z",
     "iopub.status.idle": "2024-10-03T11:03:01.006803Z",
     "shell.execute_reply": "2024-10-03T11:03:01.006180Z"
    },
    "tags": []
   },
   "outputs": [
    {
     "data": {
      "text/plain": [
       "<JobQueueApiClient url: http://my_grantami_server/mi_servicelayer>"
      ]
     },
     "execution_count": 2,
     "metadata": {},
     "output_type": "execute_result"
    }
   ],
   "source": [
    "client = Connection(server_url).with_autologon().connect()\n",
    "client"
   ]
  },
  {
   "cell_type": "markdown",
   "id": "f1618a70",
   "metadata": {},
   "source": [
    "If the Python script is running on Linux without Kerberos enabled, or you want to use an account\n",
    "other than your logged-in account, you can specify credentials explicitly."
   ]
  },
  {
   "cell_type": "code",
   "execution_count": 3,
   "id": "c2ba0155",
   "metadata": {
    "execution": {
     "iopub.execute_input": "2024-10-03T11:03:01.009257Z",
     "iopub.status.busy": "2024-10-03T11:03:01.009071Z",
     "iopub.status.idle": "2024-10-03T11:03:04.167853Z",
     "shell.execute_reply": "2024-10-03T11:03:04.167255Z"
    },
    "tags": []
   },
   "outputs": [
    {
     "data": {
      "text/plain": [
       "<JobQueueApiClient url: http://my_grantami_server/mi_servicelayer>"
      ]
     },
     "execution_count": 3,
     "metadata": {},
     "output_type": "execute_result"
    }
   ],
   "source": [
    "client = Connection(server_url).with_credentials(\"my_username\", \"my_password\").connect()\n",
    "client"
   ]
  },
  {
   "cell_type": "markdown",
   "id": "6fad174a",
   "metadata": {},
   "source": [
    "OIDC and anonymous authentication methods are also available, but they are beyond the scope of\n",
    "this example. For more information, see the PyAnsys [OpenAPI-Common documentation](https://github.com/pyansys/openapi-common)."
   ]
  },
  {
   "cell_type": "markdown",
   "id": "2347d5cf",
   "metadata": {},
   "source": [
    "## Access the job queue\n",
    "You use the ``client`` object to determine the activities that you can perform with the job queue."
   ]
  },
  {
   "cell_type": "code",
   "execution_count": 4,
   "id": "6907d1f3",
   "metadata": {
    "execution": {
     "iopub.execute_input": "2024-10-03T11:03:04.170580Z",
     "iopub.status.busy": "2024-10-03T11:03:04.170188Z",
     "iopub.status.idle": "2024-10-03T11:03:04.269700Z",
     "shell.execute_reply": "2024-10-03T11:03:04.269192Z"
    },
    "tags": []
   },
   "outputs": [
    {
     "data": {
      "text/plain": [
       "'The current user is an administrator: True'"
      ]
     },
     "execution_count": 4,
     "metadata": {},
     "output_type": "execute_result"
    }
   ],
   "source": [
    "f\"The current user is an administrator: {client.is_admin_user}\""
   ]
  },
  {
   "cell_type": "code",
   "execution_count": 5,
   "id": "d534f334",
   "metadata": {
    "execution": {
     "iopub.execute_input": "2024-10-03T11:03:04.272152Z",
     "iopub.status.busy": "2024-10-03T11:03:04.271757Z",
     "iopub.status.idle": "2024-10-03T11:03:04.275417Z",
     "shell.execute_reply": "2024-10-03T11:03:04.274829Z"
    },
    "tags": []
   },
   "outputs": [
    {
     "data": {
      "text/plain": [
       "'The current user can write jobs: True'"
      ]
     },
     "execution_count": 5,
     "metadata": {},
     "output_type": "execute_result"
    }
   ],
   "source": [
    "f\"The current user can write jobs: {client.can_write_job}\""
   ]
  },
  {
   "cell_type": "markdown",
   "id": "584a00de",
   "metadata": {},
   "source": [
    "You can also access information on how the job queue processes jobs."
   ]
  },
  {
   "cell_type": "code",
   "execution_count": 6,
   "id": "aad7c4c3",
   "metadata": {
    "execution": {
     "iopub.execute_input": "2024-10-03T11:03:04.277699Z",
     "iopub.status.busy": "2024-10-03T11:03:04.277519Z",
     "iopub.status.idle": "2024-10-03T11:03:04.373056Z",
     "shell.execute_reply": "2024-10-03T11:03:04.372415Z"
    }
   },
   "outputs": [
    {
     "data": {
      "text/plain": [
       "'Concurrency enabled: Yes'"
      ]
     },
     "execution_count": 6,
     "metadata": {},
     "output_type": "execute_result"
    }
   ],
   "source": [
    "f\"Concurrency enabled: {'Yes' if client.processing_configuration.concurrency else 'No'}\""
   ]
  },
  {
   "cell_type": "markdown",
   "id": "f3fb3432",
   "metadata": {},
   "source": [
    "Finally, you can access the job queue itself. The job queue might be empty if no\n",
    "jobs have been submitted recently.)"
   ]
  },
  {
   "cell_type": "code",
   "execution_count": 7,
   "id": "4f1ea271",
   "metadata": {
    "execution": {
     "iopub.execute_input": "2024-10-03T11:03:04.375411Z",
     "iopub.status.busy": "2024-10-03T11:03:04.375220Z",
     "iopub.status.idle": "2024-10-03T11:03:04.464277Z",
     "shell.execute_reply": "2024-10-03T11:03:04.463647Z"
    }
   },
   "outputs": [
    {
     "data": {
      "text/plain": [
       "[]"
      ]
     },
     "execution_count": 7,
     "metadata": {},
     "output_type": "execute_result"
    }
   ],
   "source": [
    "client.jobs"
   ]
  },
  {
   "cell_type": "markdown",
   "id": "1d5a781c",
   "metadata": {},
   "source": [
    "Note: The jobs accessible in the queue depend on the user's role.\n",
    "Standard users can only access their own jobs, whereas administrator users\n",
    "can access jobs created by all users."
   ]
  }
 ],
 "metadata": {
  "jupytext": {
   "formats": "ipynb,py:light"
  },
  "kernelspec": {
   "display_name": "Python 3 (ipykernel)",
   "language": "python",
   "name": "python3"
  },
  "language_info": {
   "codemirror_mode": {
    "name": "ipython",
    "version": 3
   },
   "file_extension": ".py",
   "mimetype": "text/x-python",
   "name": "python",
   "nbconvert_exporter": "python",
   "pygments_lexer": "ipython3",
   "version": "3.10.15"
  }
 },
 "nbformat": 4,
 "nbformat_minor": 5
}
