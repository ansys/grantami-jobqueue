{
 "cells": [
  {
   "cell_type": "markdown",
   "id": "190fb6dc",
   "metadata": {},
   "source": [
    "# Create a text import job"
   ]
  },
  {
   "cell_type": "markdown",
   "id": "af0e9b6a",
   "metadata": {},
   "source": [
    "You use a text import job to import data from a plain text file with an accompanying import\n",
    "template.\n",
    "\n",
    "This example shows how to create a text import job request, submit it to the job\n",
    "queue, and interact with the resulting text import job object returned by the server.\n",
    "\n",
    "Information on how to create a text import template is outside the scope of this example.\n",
    "For information on how to import plain text data into Granta MI, see the Granta MI documentation\n",
    "or consult your ACE representative."
   ]
  },
  {
   "cell_type": "markdown",
   "id": "ef108975",
   "metadata": {},
   "source": [
    "## Connect to Granta MI"
   ]
  },
  {
   "cell_type": "markdown",
   "id": "7c28ed33",
   "metadata": {},
   "source": [
    "Import the ``Connection`` class and create the connection. For more information,\n",
    "see the [Connect and access the job queue](0_Getting_started.ipynb) example."
   ]
  },
  {
   "cell_type": "code",
   "execution_count": 1,
   "id": "2052234c",
   "metadata": {
    "execution": {
     "iopub.execute_input": "2025-10-28T09:16:32.493880Z",
     "iopub.status.busy": "2025-10-28T09:16:32.493666Z",
     "iopub.status.idle": "2025-10-28T09:16:35.028392Z",
     "shell.execute_reply": "2025-10-28T09:16:35.027533Z"
    },
    "tags": []
   },
   "outputs": [],
   "source": [
    "from ansys.grantami.jobqueue import Connection\n",
    "\n",
    "server_url = \"http://my_grantami_server/mi_servicelayer\"\n",
    "client = Connection(server_url).with_credentials(\"user_name\", \"password\").connect()"
   ]
  },
  {
   "cell_type": "markdown",
   "id": "e1b00b1d",
   "metadata": {},
   "source": [
    "## Create a ``TextImportJobRequest`` object"
   ]
  },
  {
   "cell_type": "markdown",
   "id": "da337f2e",
   "metadata": {},
   "source": [
    "The first step in importing a text file with the job queue is to create a\n",
    "``TextImportJobRequest`` object. When creating this object, specify the name of the job and the\n",
    "files to import. You can also specify an optional description and the scheduled execution\n",
    "date, if the import should be deferred until that date and time.\n",
    "\n",
    "A text import job requires data files, template files, and optionally additional files to be\n",
    "uploaded as attachments. These can be provided as relative or absolute paths or as `pathlib.Path`\n",
    "objects."
   ]
  },
  {
   "cell_type": "code",
   "execution_count": 2,
   "id": "0655ff1c",
   "metadata": {
    "execution": {
     "iopub.execute_input": "2025-10-28T09:16:35.030232Z",
     "iopub.status.busy": "2025-10-28T09:16:35.030032Z",
     "iopub.status.idle": "2025-10-28T09:16:35.036440Z",
     "shell.execute_reply": "2025-10-28T09:16:35.035657Z"
    }
   },
   "outputs": [
    {
     "data": {
      "text/plain": [
       "<TextImportJobRequest: name: \"Text Import\">"
      ]
     },
     "execution_count": 2,
     "metadata": {},
     "output_type": "execute_result"
    }
   ],
   "source": [
    "import pathlib\n",
    "\n",
    "from ansys.grantami.jobqueue import TextImportJobRequest\n",
    "\n",
    "text_import_request = TextImportJobRequest(\n",
    "    name=\"Text Import\",\n",
    "    description=\"An example text import job\",\n",
    "    template_file=pathlib.Path(\"./assets/text_import_template.xml\"),\n",
    "    data_files=[\"./assets/example_data.txt\"],\n",
    ")\n",
    "\n",
    "text_import_request"
   ]
  },
  {
   "cell_type": "markdown",
   "id": "cf77889f",
   "metadata": {},
   "source": [
    "## Submit the job to the server\n",
    "Next, submit the jobs to the server. There are two methods for submitting job\n",
    "requests:\n",
    "\n",
    "* ``create_job()``: Submit the job request to the server and immediately return an\n",
    "  ``AsyncJob`` object in the *pending* state.\n",
    "* ``create_job_and_wait()``: Submit the job request to the server and block until the job\n",
    "   either completes or fails. Return an ``AsyncJob`` object in the *succeeded* or *failed* state.\n",
    "\n",
    "This example uses the ``create_job_and_wait()`` method. For an example that shows\n",
    "how to create and submit a job that runs asynchronously, see\n",
    "[Schedule and modify jobs](4_Scheduling_and_modifying_jobs.ipynb)."
   ]
  },
  {
   "cell_type": "code",
   "execution_count": 3,
   "id": "7a44c11b",
   "metadata": {
    "execution": {
     "iopub.execute_input": "2025-10-28T09:16:35.038068Z",
     "iopub.status.busy": "2025-10-28T09:16:35.037899Z",
     "iopub.status.idle": "2025-10-28T09:16:36.185185Z",
     "shell.execute_reply": "2025-10-28T09:16:36.184413Z"
    }
   },
   "outputs": [
    {
     "data": {
      "text/plain": [
       "<AsyncJob: name: \"Text Import\", status: \"JobStatus.Succeeded\">"
      ]
     },
     "execution_count": 3,
     "metadata": {},
     "output_type": "execute_result"
    }
   ],
   "source": [
    "text_import_job = client.create_job_and_wait(text_import_request)\n",
    "text_import_job"
   ]
  },
  {
   "cell_type": "markdown",
   "id": "72d93e4b",
   "metadata": {},
   "source": [
    "## Access output files\n",
    "Finally, access the results of the job. Import jobs typically create log files, but the exact type\n",
    "of files generated varies based on the type of import template. In this case, the files are all\n",
    "plain text."
   ]
  },
  {
   "cell_type": "markdown",
   "id": "02de8090",
   "metadata": {},
   "source": [
    "Access the list of files generated by the job with the ``output_file_names`` property. This\n",
    "returns a list of file names."
   ]
  },
  {
   "cell_type": "code",
   "execution_count": 4,
   "id": "bc9b3486",
   "metadata": {
    "execution": {
     "iopub.execute_input": "2025-10-28T09:16:36.187044Z",
     "iopub.status.busy": "2025-10-28T09:16:36.186880Z",
     "iopub.status.idle": "2025-10-28T09:16:36.190854Z",
     "shell.execute_reply": "2025-10-28T09:16:36.190042Z"
    }
   },
   "outputs": [
    {
     "data": {
      "text/plain": [
       "['Text Import.log']"
      ]
     },
     "execution_count": 4,
     "metadata": {},
     "output_type": "execute_result"
    }
   ],
   "source": [
    "text_import_job.output_file_names"
   ]
  },
  {
   "cell_type": "markdown",
   "id": "e237a82e",
   "metadata": {},
   "source": [
    "In general, a text import job includes a log of the import operation on the server as ``<job name>.log``."
   ]
  },
  {
   "cell_type": "markdown",
   "id": "3125fa1a",
   "metadata": {},
   "source": [
    "This cell shows how to access the content of the log file as ``bytes`` using the\n",
    "``AsyncJob.get_file_content()`` method:"
   ]
  },
  {
   "cell_type": "code",
   "execution_count": 5,
   "id": "d74bb90a",
   "metadata": {
    "execution": {
     "iopub.execute_input": "2025-10-28T09:16:36.192404Z",
     "iopub.status.busy": "2025-10-28T09:16:36.192255Z",
     "iopub.status.idle": "2025-10-28T09:16:36.227595Z",
     "shell.execute_reply": "2025-10-28T09:16:36.226773Z"
    }
   },
   "outputs": [
    {
     "name": "stdout",
     "output_type": "stream",
     "text": [
      "Text Import.log (first 200 characters):\n",
      "﻿2025-10-28 05:16:35,302 [33] INFO  Task started: Template:'text_import_template.xml', Step:'', Datafile:'', Culture:''\r\n",
      "2025-10-28 05:16:35,302 [33] INFO  Starting import process to import 4 data sets\r\n",
      "2025-10-28 05:16:35,302 [4] INFO  Started import of Record item File set 'example_data', record number 1. for data group example_data.\r\n",
      "2025-10-28 05:16:35,317 [4] INFO  Item Data from record example_data was processed\r\n",
      "2025-10-28 05:16:35,395 [4] INFO  Changes committed.\r\n",
      "2025-10-28 05:16:35,395...\n"
     ]
    }
   ],
   "source": [
    "log_file_name = next(name for name in text_import_job.output_file_names if \"log\" in name)\n",
    "log_file_content = text_import_job.get_file_content(log_file_name)\n",
    "log_file_string = log_file_content.decode(\"utf-8\")\n",
    "print(f\"{log_file_name} (first 200 characters):\")\n",
    "print(f\"{log_file_string[:500]}...\")"
   ]
  }
 ],
 "metadata": {
  "granta": {
   "clean_database": true
  },
  "jupytext": {
   "notebook_metadata_filter": "granta"
  },
  "kernelspec": {
   "display_name": "Python 3 (ipykernel)",
   "language": "python",
   "name": "python3"
  },
  "language_info": {
   "codemirror_mode": {
    "name": "ipython",
    "version": 3
   },
   "file_extension": ".py",
   "mimetype": "text/x-python",
   "name": "python",
   "nbconvert_exporter": "python",
   "pygments_lexer": "ipython3",
   "version": "3.11.13"
  }
 },
 "nbformat": 4,
 "nbformat_minor": 5
}
