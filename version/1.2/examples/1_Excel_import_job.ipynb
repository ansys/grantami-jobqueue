{
 "cells": [
  {
   "cell_type": "markdown",
   "id": "d5be48de",
   "metadata": {},
   "source": [
    "# Create an Excel import job"
   ]
  },
  {
   "cell_type": "markdown",
   "id": "960464cd",
   "metadata": {},
   "source": [
    "You use an Excel import job to import data from a properly formatted Excel spreadsheet.\n",
    "\n",
    "This example shows how to create an Excel import job request, submit it to the job\n",
    "queue, and interact with the resulting Excel import job object returned by the server.\n",
    "\n",
    "Information on how to create a properly formatted Excel import template is\n",
    "outside the scope of this example. For information on using Excel to import data into\n",
    "Granta MI, see the Granta MI documentation or consult your ACE representative."
   ]
  },
  {
   "cell_type": "markdown",
   "id": "2507ab46",
   "metadata": {},
   "source": [
    "## Connect to Granta MI"
   ]
  },
  {
   "cell_type": "markdown",
   "id": "49cd580a",
   "metadata": {},
   "source": [
    "Import the ``Connection`` class and create the connection. For more information,\n",
    "see the [Connect and access the job queue](0_Getting_started.ipynb) example."
   ]
  },
  {
   "cell_type": "code",
   "execution_count": 1,
   "id": "670ff8a4",
   "metadata": {
    "execution": {
     "iopub.execute_input": "2025-07-10T15:09:31.898755Z",
     "iopub.status.busy": "2025-07-10T15:09:31.898553Z",
     "iopub.status.idle": "2025-07-10T15:09:33.899012Z",
     "shell.execute_reply": "2025-07-10T15:09:33.898395Z"
    },
    "tags": []
   },
   "outputs": [],
   "source": [
    "from ansys.grantami.jobqueue import Connection\n",
    "\n",
    "server_url = \"http://my_grantami_server/mi_servicelayer\"\n",
    "client = Connection(server_url).with_credentials(\"user_name\", \"password\").connect()"
   ]
  },
  {
   "cell_type": "markdown",
   "id": "b32c361d",
   "metadata": {},
   "source": [
    "## Create an ``ExcelImportJobRequest`` object"
   ]
  },
  {
   "cell_type": "markdown",
   "id": "48731c5f",
   "metadata": {},
   "source": [
    "The first step in importing an Excel file with the job queue is to create an\n",
    "``ExcelImportJobRequest`` object. When creating this object, specify the name of the job and the\n",
    "files to import. You can also specify an optional description and the scheduled execution\n",
    "date, if the import should be deferred until that date and time.\n",
    "\n",
    "Different job types require different input files. For example, an Excel import can use a\n",
    "*template*, one or more *data* files, or *combined* files, which include both the template\n",
    "and data files. You should specify any additional files to imported as file or picture attributes\n",
    "as *attachment* files. You can provide these additional files as relative or absolute paths or as\n",
    "``pathlib.Path`` objects."
   ]
  },
  {
   "cell_type": "code",
   "execution_count": 2,
   "id": "2d438734",
   "metadata": {
    "execution": {
     "iopub.execute_input": "2025-07-10T15:09:33.901347Z",
     "iopub.status.busy": "2025-07-10T15:09:33.900989Z",
     "iopub.status.idle": "2025-07-10T15:09:33.907085Z",
     "shell.execute_reply": "2025-07-10T15:09:33.906543Z"
    }
   },
   "outputs": [
    {
     "data": {
      "text/plain": [
       "<ExcelImportJobRequest: name: \"Excel Import (separate template and data files)\">"
      ]
     },
     "execution_count": 2,
     "metadata": {},
     "output_type": "execute_result"
    }
   ],
   "source": [
    "from ansys.grantami.jobqueue import ExcelImportJobRequest\n",
    "\n",
    "separate_excel_import_request = ExcelImportJobRequest(\n",
    "    name=\"Excel Import (separate template and data files)\",\n",
    "    description=\"An example excel import job\",\n",
    "    template_file=\"assets/import_template.xlsx\",\n",
    "    data_files=[\"assets/data_file_1.xlsx\", \"assets/data_file_2.xlsx\"],\n",
    ")\n",
    "separate_excel_import_request"
   ]
  },
  {
   "cell_type": "markdown",
   "id": "10a950b3",
   "metadata": {},
   "source": [
    "## Submit the job to the server\n",
    "Next, submit the jobs to the server. There are two methods for submitting job\n",
    "requests:\n",
    "\n",
    "* ``create_job()``: Submit the job request to the server and immediately return an\n",
    "  ``AsyncJob`` object in the *pending* state.\n",
    "* ``create_job_and_wait()``: Submit the job request to the server and block until the job\n",
    "   either completes or fails. Return an ``AsyncJob`` object in the *succeeded* or *failed* state.\n",
    "\n",
    "This example uses the ``create_job_and_wait()`` method. For an example that shows\n",
    "how to create and submit a job that runs asynchronously, see\n",
    "[Schedule and modify jobs](4_Scheduling_and_modifying_jobs.ipynb)."
   ]
  },
  {
   "cell_type": "code",
   "execution_count": 3,
   "id": "0459ee19",
   "metadata": {
    "execution": {
     "iopub.execute_input": "2025-07-10T15:09:33.908866Z",
     "iopub.status.busy": "2025-07-10T15:09:33.908521Z",
     "iopub.status.idle": "2025-07-10T15:09:36.103844Z",
     "shell.execute_reply": "2025-07-10T15:09:36.103221Z"
    }
   },
   "outputs": [],
   "source": [
    "completed_job = client.create_job_and_wait(separate_excel_import_request)"
   ]
  },
  {
   "cell_type": "markdown",
   "id": "78832fc4",
   "metadata": {},
   "source": [
    "## Access output files\n",
    "Finally, access the results of the job. Import jobs typically create log files, but the exact type\n",
    "of files generated varies based on the type of import template. In this case, the files are all\n",
    "plain text."
   ]
  },
  {
   "cell_type": "markdown",
   "id": "51963437",
   "metadata": {},
   "source": [
    "Access the list of files generated by the job with the ``output_file_names`` property. This\n",
    "returns a list of file names."
   ]
  },
  {
   "cell_type": "code",
   "execution_count": 4,
   "id": "c4834905",
   "metadata": {
    "execution": {
     "iopub.execute_input": "2025-07-10T15:09:36.105849Z",
     "iopub.status.busy": "2025-07-10T15:09:36.105678Z",
     "iopub.status.idle": "2025-07-10T15:09:36.109565Z",
     "shell.execute_reply": "2025-07-10T15:09:36.108998Z"
    }
   },
   "outputs": [
    {
     "data": {
      "text/plain": [
       "['Excel Import (separate template and data files).log']"
      ]
     },
     "execution_count": 4,
     "metadata": {},
     "output_type": "execute_result"
    }
   ],
   "source": [
    "completed_job.output_file_names"
   ]
  },
  {
   "cell_type": "markdown",
   "id": "b2d8a49a",
   "metadata": {},
   "source": [
    "In general, an Excel import job includes a log of the import operation on the server as ``<job name>.log``."
   ]
  },
  {
   "cell_type": "markdown",
   "id": "d843f65d",
   "metadata": {},
   "source": [
    "This cell shows how to access the content of the log file as ``bytes`` using the\n",
    "``AsyncJob.get_file_content()`` method:"
   ]
  },
  {
   "cell_type": "code",
   "execution_count": 5,
   "id": "3f7cb931",
   "metadata": {
    "execution": {
     "iopub.execute_input": "2025-07-10T15:09:36.111236Z",
     "iopub.status.busy": "2025-07-10T15:09:36.111068Z",
     "iopub.status.idle": "2025-07-10T15:09:36.149575Z",
     "shell.execute_reply": "2025-07-10T15:09:36.149068Z"
    }
   },
   "outputs": [
    {
     "name": "stdout",
     "output_type": "stream",
     "text": [
      "Excel Import (separate template and data files).log (first 200 characters):\n",
      "﻿2025-07-10 11:09:34,241 [75] INFO  Task started: Template:'import_template', Step:'Pre-Import Validation: Problematic Values & Functions', Datafile:'data_file_1', Culture:'en-US'\r\n",
      "2025-07-10 11:09:34,304 [75] INFO  Task finished.\r\n",
      "2025-07-10 11:09:34,304 [75] INFO  Task started: Template:'import_template', Step:'Pre-Import Validation: Problematic Values & Functions', Datafile:'data_file_2', Culture:'en-US'\r\n",
      "2025-07-10 11:09:34,304 [75] INFO  Task finished.\r\n",
      "2025-07-10 11:09:34,319 [75] INFO  Ta...\n"
     ]
    }
   ],
   "source": [
    "log_file_name = next(name for name in completed_job.output_file_names if \"log\" in name)\n",
    "log_file_content = completed_job.get_file_content(log_file_name)\n",
    "log_file_string = log_file_content.decode(\"utf-8\")\n",
    "print(f\"{log_file_name} (first 200 characters):\")\n",
    "print(f\"{log_file_string[:500]}...\")"
   ]
  }
 ],
 "metadata": {
  "granta": {
   "clean_database": true
  },
  "jupytext": {
   "notebook_metadata_filter": "granta"
  },
  "kernelspec": {
   "display_name": "Python 3 (ipykernel)",
   "language": "python",
   "name": "python3"
  },
  "language_info": {
   "codemirror_mode": {
    "name": "ipython",
    "version": 3
   },
   "file_extension": ".py",
   "mimetype": "text/x-python",
   "name": "python",
   "nbconvert_exporter": "python",
   "pygments_lexer": "ipython3",
   "version": "3.11.13"
  }
 },
 "nbformat": 4,
 "nbformat_minor": 5
}
