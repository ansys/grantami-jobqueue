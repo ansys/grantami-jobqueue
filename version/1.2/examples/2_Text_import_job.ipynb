{
 "cells": [
  {
   "cell_type": "markdown",
   "id": "3d6fc284",
   "metadata": {},
   "source": [
    "# Create a text import job"
   ]
  },
  {
   "cell_type": "markdown",
   "id": "4c99d731",
   "metadata": {},
   "source": [
    "You use a text import job to import data from a plain text file with an accompanying import\n",
    "template.\n",
    "\n",
    "This example shows how to create a text import job request, submit it to the job\n",
    "queue, and interact with the resulting text import job object returned by the server.\n",
    "\n",
    "Information on how to create a text import template is outside the scope of this example.\n",
    "For information on how to import plain text data into Granta MI, see the Granta MI documentation\n",
    "or consult your ACE representative."
   ]
  },
  {
   "cell_type": "markdown",
   "id": "5ae97fa9",
   "metadata": {},
   "source": [
    "## Connect to Granta MI"
   ]
  },
  {
   "cell_type": "markdown",
   "id": "fe3105b0",
   "metadata": {},
   "source": [
    "Import the ``Connection`` class and create the connection. For more information,\n",
    "see the [Connect and access the job queue](0_Getting_started.ipynb) example."
   ]
  },
  {
   "cell_type": "code",
   "execution_count": 1,
   "id": "c60f8a3d",
   "metadata": {
    "execution": {
     "iopub.execute_input": "2025-07-10T15:09:38.086505Z",
     "iopub.status.busy": "2025-07-10T15:09:38.086302Z",
     "iopub.status.idle": "2025-07-10T15:09:40.137513Z",
     "shell.execute_reply": "2025-07-10T15:09:40.136942Z"
    },
    "tags": []
   },
   "outputs": [],
   "source": [
    "from ansys.grantami.jobqueue import Connection\n",
    "\n",
    "server_url = \"http://my_grantami_server/mi_servicelayer\"\n",
    "client = Connection(server_url).with_credentials(\"user_name\", \"password\").connect()"
   ]
  },
  {
   "cell_type": "markdown",
   "id": "42c259bf",
   "metadata": {},
   "source": [
    "## Create a ``TextImportJobRequest`` object"
   ]
  },
  {
   "cell_type": "markdown",
   "id": "b5f52159",
   "metadata": {},
   "source": [
    "The first step in importing a text file with the job queue is to create a\n",
    "``TextImportJobRequest`` object. When creating this object, specify the name of the job and the\n",
    "files to import. You can also specify an optional description and the scheduled execution\n",
    "date, if the import should be deferred until that date and time.\n",
    "\n",
    "A text import job requires data files, template files, and optionally additional files to be\n",
    "uploaded as attachments. These can be provided as relative or absolute paths or as `pathlib.Path`\n",
    "objects."
   ]
  },
  {
   "cell_type": "code",
   "execution_count": 2,
   "id": "98a9e69f",
   "metadata": {
    "execution": {
     "iopub.execute_input": "2025-07-10T15:09:40.139695Z",
     "iopub.status.busy": "2025-07-10T15:09:40.139498Z",
     "iopub.status.idle": "2025-07-10T15:09:40.145682Z",
     "shell.execute_reply": "2025-07-10T15:09:40.145218Z"
    }
   },
   "outputs": [
    {
     "data": {
      "text/plain": [
       "<TextImportJobRequest: name: \"Text Import\">"
      ]
     },
     "execution_count": 2,
     "metadata": {},
     "output_type": "execute_result"
    }
   ],
   "source": [
    "import pathlib\n",
    "\n",
    "from ansys.grantami.jobqueue import TextImportJobRequest\n",
    "\n",
    "text_import_request = TextImportJobRequest(\n",
    "    name=\"Text Import\",\n",
    "    description=\"An example text import job\",\n",
    "    template_file=pathlib.Path(\"./assets/text_import_template.xml\"),\n",
    "    data_files=[\"./assets/example_data.txt\"],\n",
    ")\n",
    "\n",
    "text_import_request"
   ]
  },
  {
   "cell_type": "markdown",
   "id": "073e5afc",
   "metadata": {},
   "source": [
    "## Submit the job to the server\n",
    "Next, submit the jobs to the server. There are two methods for submitting job\n",
    "requests:\n",
    "\n",
    "* ``create_job()``: Submit the job request to the server and immediately return an\n",
    "  ``AsyncJob`` object in the *pending* state.\n",
    "* ``create_job_and_wait()``: Submit the job request to the server and block until the job\n",
    "   either completes or fails. Return an ``AsyncJob`` object in the *succeeded* or *failed* state.\n",
    "\n",
    "This example uses the ``create_job_and_wait()`` method. For an example that shows\n",
    "how to create and submit a job that runs asynchronously, see\n",
    "[Schedule and modify jobs](4_Scheduling_and_modifying_jobs.ipynb)."
   ]
  },
  {
   "cell_type": "code",
   "execution_count": 3,
   "id": "6ff6f789",
   "metadata": {
    "execution": {
     "iopub.execute_input": "2025-07-10T15:09:40.147314Z",
     "iopub.status.busy": "2025-07-10T15:09:40.147148Z",
     "iopub.status.idle": "2025-07-10T15:09:41.254362Z",
     "shell.execute_reply": "2025-07-10T15:09:41.253941Z"
    }
   },
   "outputs": [
    {
     "data": {
      "text/plain": [
       "<AsyncJob: name: \"Text Import\", status: \"JobStatus.Succeeded\">"
      ]
     },
     "execution_count": 3,
     "metadata": {},
     "output_type": "execute_result"
    }
   ],
   "source": [
    "text_import_job = client.create_job_and_wait(text_import_request)\n",
    "text_import_job"
   ]
  },
  {
   "cell_type": "markdown",
   "id": "c52cffc5",
   "metadata": {},
   "source": [
    "## Access output files\n",
    "Finally, access the results of the job. Import jobs typically create log files, but the exact type\n",
    "of files generated varies based on the type of import template. In this case, the files are all\n",
    "plain text."
   ]
  },
  {
   "cell_type": "markdown",
   "id": "a8bf9cfe",
   "metadata": {},
   "source": [
    "Access the list of files generated by the job with the ``output_file_names`` property. This\n",
    "returns a list of file names."
   ]
  },
  {
   "cell_type": "code",
   "execution_count": 4,
   "id": "cbf2c356",
   "metadata": {
    "execution": {
     "iopub.execute_input": "2025-07-10T15:09:41.256173Z",
     "iopub.status.busy": "2025-07-10T15:09:41.256000Z",
     "iopub.status.idle": "2025-07-10T15:09:41.259899Z",
     "shell.execute_reply": "2025-07-10T15:09:41.259321Z"
    }
   },
   "outputs": [
    {
     "data": {
      "text/plain": [
       "['Text Import.log']"
      ]
     },
     "execution_count": 4,
     "metadata": {},
     "output_type": "execute_result"
    }
   ],
   "source": [
    "text_import_job.output_file_names"
   ]
  },
  {
   "cell_type": "markdown",
   "id": "1f0be53f",
   "metadata": {},
   "source": [
    "In general, a text import job includes a log of the import operation on the server as ``<job name>.log``."
   ]
  },
  {
   "cell_type": "markdown",
   "id": "ae7a4e28",
   "metadata": {},
   "source": [
    "This cell shows how to access the content of the log file as ``bytes`` using the\n",
    "``AsyncJob.get_file_content()`` method:"
   ]
  },
  {
   "cell_type": "code",
   "execution_count": 5,
   "id": "3bb7bed2",
   "metadata": {
    "execution": {
     "iopub.execute_input": "2025-07-10T15:09:41.261574Z",
     "iopub.status.busy": "2025-07-10T15:09:41.261380Z",
     "iopub.status.idle": "2025-07-10T15:09:41.295033Z",
     "shell.execute_reply": "2025-07-10T15:09:41.294566Z"
    }
   },
   "outputs": [
    {
     "name": "stdout",
     "output_type": "stream",
     "text": [
      "Text Import.log (first 200 characters):\n",
      "﻿2025-07-10 11:09:40,232 [69] INFO  Task started: Template:'text_import_template.xml', Step:'', Datafile:'', Culture:''\r\n",
      "2025-07-10 11:09:40,247 [69] INFO  Starting import process to import 4 data sets\r\n",
      "2025-07-10 11:09:40,247 [60] INFO  Started import of Record item File set 'example_data', record number 1. for data group example_data.\r\n",
      "2025-07-10 11:09:40,263 [60] INFO  Item Data from record example_data was processed\r\n",
      "2025-07-10 11:09:40,325 [60] INFO  Changes committed.\r\n",
      "2025-07-10 11:09:40,...\n"
     ]
    }
   ],
   "source": [
    "log_file_name = next(name for name in text_import_job.output_file_names if \"log\" in name)\n",
    "log_file_content = text_import_job.get_file_content(log_file_name)\n",
    "log_file_string = log_file_content.decode(\"utf-8\")\n",
    "print(f\"{log_file_name} (first 200 characters):\")\n",
    "print(f\"{log_file_string[:500]}...\")"
   ]
  }
 ],
 "metadata": {
  "granta": {
   "clean_database": true
  },
  "jupytext": {
   "notebook_metadata_filter": "granta"
  },
  "kernelspec": {
   "display_name": "Python 3 (ipykernel)",
   "language": "python",
   "name": "python3"
  },
  "language_info": {
   "codemirror_mode": {
    "name": "ipython",
    "version": 3
   },
   "file_extension": ".py",
   "mimetype": "text/x-python",
   "name": "python",
   "nbconvert_exporter": "python",
   "pygments_lexer": "ipython3",
   "version": "3.11.13"
  }
 },
 "nbformat": 4,
 "nbformat_minor": 5
}
